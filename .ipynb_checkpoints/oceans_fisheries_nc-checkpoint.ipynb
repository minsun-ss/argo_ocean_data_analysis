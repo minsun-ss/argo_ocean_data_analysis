{
 "cells": [
  {
   "cell_type": "code",
   "execution_count": 1,
   "metadata": {},
   "outputs": [],
   "source": [
    "import pandas as pd\n",
    "import numpy as np\n",
    "import netCDF4\n",
    "#import urllib\n",
    "#import xarray\n",
    "import tarfile\n",
    "\n",
    "# FAIR WARNING - DEPENDING ON THE TGZ FILE THIS CAN TAKE A REALLY LONG TIME\n",
    "# gtspp = tarfile.open('data/gtspp4_at201208.tgz')\n",
    "# cdf_set = [i for i in gtspp.getnames() if (('atlantic' in i) & ('.nc' in i))]\n",
    "# for file in cdf_set:\n",
    "#     gtspp.extract(file, 'data/')"
   ]
  },
  {
   "cell_type": "code",
   "execution_count": 2,
   "metadata": {},
   "outputs": [
    {
     "ename": "FileNotFoundError",
     "evalue": "[WinError 3] The system cannot find the path specified: 'data/atlantic/2012/08'",
     "output_type": "error",
     "traceback": [
      "\u001b[1;31m---------------------------------------------------------------------------\u001b[0m",
      "\u001b[1;31mFileNotFoundError\u001b[0m                         Traceback (most recent call last)",
      "\u001b[1;32m<ipython-input-2-b20a5ce948fc>\u001b[0m in \u001b[0;36m<module>\u001b[1;34m\u001b[0m\n\u001b[0;32m      8\u001b[0m \u001b[0mgstpp_directory\u001b[0m\u001b[1;33m=\u001b[0m\u001b[1;34m'data/atlantic/2012/08'\u001b[0m\u001b[1;33m\u001b[0m\u001b[1;33m\u001b[0m\u001b[0m\n\u001b[0;32m      9\u001b[0m \u001b[0mlatitude\u001b[0m\u001b[1;33m,\u001b[0m \u001b[0mlongitude\u001b[0m \u001b[1;33m=\u001b[0m \u001b[1;33m[\u001b[0m\u001b[1;33m]\u001b[0m\u001b[1;33m,\u001b[0m \u001b[1;33m[\u001b[0m\u001b[1;33m]\u001b[0m\u001b[1;33m\u001b[0m\u001b[1;33m\u001b[0m\u001b[0m\n\u001b[1;32m---> 10\u001b[1;33m \u001b[1;32mfor\u001b[0m \u001b[0mfile\u001b[0m \u001b[1;32min\u001b[0m \u001b[0mos\u001b[0m\u001b[1;33m.\u001b[0m\u001b[0mlistdir\u001b[0m\u001b[1;33m(\u001b[0m\u001b[0mgstpp_directory\u001b[0m\u001b[1;33m)\u001b[0m\u001b[1;33m:\u001b[0m\u001b[1;33m\u001b[0m\u001b[1;33m\u001b[0m\u001b[0m\n\u001b[0m\u001b[0;32m     11\u001b[0m     \u001b[0mcdf_coordinates\u001b[0m \u001b[1;33m=\u001b[0m \u001b[0mnetCDF4\u001b[0m\u001b[1;33m.\u001b[0m\u001b[0mDataset\u001b[0m\u001b[1;33m(\u001b[0m\u001b[1;34mf'{gstpp_directory}/{file}'\u001b[0m\u001b[1;33m)\u001b[0m\u001b[1;33m\u001b[0m\u001b[1;33m\u001b[0m\u001b[0m\n\u001b[0;32m     12\u001b[0m     \u001b[0marray_lat\u001b[0m\u001b[1;33m,\u001b[0m \u001b[0marray_long\u001b[0m \u001b[1;33m=\u001b[0m \u001b[0mcdf_coordinates\u001b[0m\u001b[1;33m.\u001b[0m\u001b[0mvariables\u001b[0m\u001b[1;33m[\u001b[0m\u001b[1;34m'latitude'\u001b[0m\u001b[1;33m]\u001b[0m\u001b[1;33m[\u001b[0m\u001b[1;33m:\u001b[0m\u001b[1;33m]\u001b[0m\u001b[1;33m,\u001b[0m \u001b[0mcdf_coordinates\u001b[0m\u001b[1;33m.\u001b[0m\u001b[0mvariables\u001b[0m\u001b[1;33m[\u001b[0m\u001b[1;34m'longitude'\u001b[0m\u001b[1;33m]\u001b[0m\u001b[1;33m[\u001b[0m\u001b[1;33m:\u001b[0m\u001b[1;33m]\u001b[0m\u001b[1;33m\u001b[0m\u001b[1;33m\u001b[0m\u001b[0m\n",
      "\u001b[1;31mFileNotFoundError\u001b[0m: [WinError 3] The system cannot find the path specified: 'data/atlantic/2012/08'"
     ]
    }
   ],
   "source": [
    "from os import listdir\n",
    "import os\n",
    "\n",
    "gulf_coords = [(51.416032, -57.011715), (45.659196, -57.011715), (51.416032, -66.196285), (45.659196, -66.196285) ]\n",
    "latitude_min, latitude_max = 45.659196, 51.416032 \n",
    "longitude_min, longitude_max = -66.196285, -57.011715\n",
    "\n",
    "gstpp_directory='data/atlantic/2012/08'\n",
    "latitude, longitude = [], []\n",
    "for file in os.listdir(gstpp_directory):\n",
    "    cdf_coordinates = netCDF4.Dataset(f'{gstpp_directory}/{file}')\n",
    "    array_lat, array_long = cdf_coordinates.variables['latitude'][:], cdf_coordinates.variables['longitude'][:]\n",
    "    lat = array_lat[array_lat.mask==False].data[0].tolist()[0]\n",
    "    long = array_long[array_long.mask==False].data[0].tolist()[0]\n",
    "\n",
    "    if ((lat >= latitude_min) & (lat <= latitude_max) & (long >= longitude_min) & (long <= longitude_max)):        \n",
    "        latitude.append(lat)\n",
    "        longitude.append(long)\n",
    "    if len(latitude)>=10:\n",
    "        break\n",
    "    \n",
    "coords = pd.DataFrame(list(zip(latitude, longitude)), columns=['latitude', 'longitude'])\n",
    "# coords = pd.DataFrame(gulf_1, columns=['latitude', 'longitude'])"
   ]
  },
  {
   "cell_type": "code",
   "execution_count": null,
   "metadata": {},
   "outputs": [],
   "source": [
    "import folium\n",
    "\n",
    "import folium\n",
    "m = folium.Map(location=[50, -60], zoom_start=4.5, tiles='Stamen Terrain')\n",
    "\n",
    "for flt in coords.index:\n",
    "    folium.Marker(location=[coords[\"latitude\"].iloc[flt], coords[\"longitude\"].iloc[flt]]).add_to(m)\n",
    "m"
   ]
  },
  {
   "cell_type": "markdown",
   "metadata": {},
   "source": [
    "Some notes: gulf_coords above is what I'm targeting for float data and int he GSTTP data we only have temp/salinity for prior to 2013. Do we want to do it on that dataset? perhaps estimate the temperatures post 2013 based on float data outside the gulf?  Or just observe it from 2009-2013 sets that overlap? and the estimate going forward from the 2013 period?\n",
    "\n",
    "Float search based on https://www.nodc.noaa.gov/GTSPP/gwi.html cursory lookups by year. Don't see any float data in the above gulf coords until 2013 or prior."
   ]
  },
  {
   "cell_type": "code",
   "execution_count": null,
   "metadata": {},
   "outputs": [],
   "source": [
    "from argis impor"
   ]
  }
 ],
 "metadata": {
  "kernelspec": {
   "display_name": "Python 3",
   "language": "python",
   "name": "python3"
  },
  "language_info": {
   "codemirror_mode": {
    "name": "ipython",
    "version": 3
   },
   "file_extension": ".py",
   "mimetype": "text/x-python",
   "name": "python",
   "nbconvert_exporter": "python",
   "pygments_lexer": "ipython3",
   "version": "3.7.6"
  }
 },
 "nbformat": 4,
 "nbformat_minor": 4
}
