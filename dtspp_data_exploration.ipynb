{
 "cells": [
  {
   "cell_type": "code",
   "execution_count": 1,
   "metadata": {},
   "outputs": [],
   "source": [
    "import pandas as pd\n",
    "import numpy as np\n",
    "import netCDF4\n",
    "#import urllib\n",
    "#import xarray\n",
    "import tarfile\n",
    "\n",
    "# FAIR WARNING - DEPENDING ON THE TGZ FILE THIS CAN TAKE A REALLY LONG TIME\n",
    "# gtspp = tarfile.open('data/gtspp4_at201208.tgz')\n",
    "# cdf_set = [i for i in gtspp.getnames() if (('atlantic' in i) & ('.nc' in i))]\n",
    "# for file in cdf_set:\n",
    "#     gtspp.extract(file, 'data/')"
   ]
  },
  {
   "cell_type": "code",
   "execution_count": 8,
   "metadata": {},
   "outputs": [],
   "source": [
    "from os import listdir\n",
    "import os\n",
    "\n",
    "gulf_coords = [(51.416032, -57.011715), (45.659196, -57.011715), (51.416032, -66.196285), (45.659196, -66.196285) ]\n",
    "latitude_min, latitude_max = 45.659196, 51.416032 \n",
    "longitude_min, longitude_max = -66.196285, -57.011715\n",
    "\n",
    "gstpp_directory='data/atlantic/2012/08'\n",
    "latitude, longitude = [], []\n",
    "for file in os.listdir(gstpp_directory):\n",
    "    cdf_coordinates = netCDF4.Dataset(f'{gstpp_directory}/{file}')\n",
    "    print()\n",
    "    array_lat, array_long = cdf_coordinates.variables['latitude'][:], cdf_coordinates.variables['longitude'][:]\n",
    "    lat = array_lat[array_lat.mask==False].data[0].tolist()[0]\n",
    "    long = array_long[array_long.mask==False].data[0].tolist()[0]\n",
    "\n",
    "    if ((lat >= latitude_min) & (lat <= latitude_max) & (long >= longitude_min) & (long <= longitude_max)):        \n",
    "        latitude.append(lat)\n",
    "        longitude.append(long)\n",
    "    if len(latitude)>=10:\n",
    "        break\n",
    "    \n",
    "coords = pd.DataFrame(list(zip(latitude, longitude)), columns=['latitude', 'longitude'])\n",
    "# coords = pd.DataFrame(gulf_1, columns=['latitude', 'longitude'])"
   ]
  },
  {
   "cell_type": "code",
   "execution_count": 9,
   "metadata": {},
   "outputs": [
    {
     "data": {
      "text/html": [
       "<div style=\"width:100%;\"><div style=\"position:relative;width:100%;height:0;padding-bottom:60%;\"><span style=\"color:#565656\">Make this Notebook Trusted to load map: File -> Trust Notebook</span><iframe src=\"about:blank\" style=\"position:absolute;width:100%;height:100%;left:0;top:0;border:none !important;\" data-html=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 onload=\"this.contentDocument.open();this.contentDocument.write(atob(this.getAttribute('data-html')));this.contentDocument.close();\" allowfullscreen webkitallowfullscreen mozallowfullscreen></iframe></div></div>"
      ],
      "text/plain": [
       "<folium.folium.Map at 0x249be792f48>"
      ]
     },
     "execution_count": 9,
     "metadata": {},
     "output_type": "execute_result"
    }
   ],
   "source": [
    "import folium\n",
    "\n",
    "import folium\n",
    "m = folium.Map(location=[50, -60], zoom_start=4.5, tiles='Stamen Terrain')\n",
    "\n",
    "for flt in coords.index:\n",
    "    folium.Marker(location=[coords[\"latitude\"].iloc[flt], coords[\"longitude\"].iloc[flt]]).add_to(m)\n",
    "m"
   ]
  },
  {
   "cell_type": "markdown",
   "metadata": {},
   "source": [
    "Some notes: gulf_coords above is what I'm targeting for float data and int he GSTTP data we only have temp/salinity for prior to 2013. Do we want to do it on that dataset? perhaps estimate the temperatures post 2013 based on float data outside the gulf?  Or just observe it from 2009-2013 sets that overlap? and the estimate going forward from the 2013 period?\n",
    "\n",
    "Float search based on https://www.nodc.noaa.gov/GTSPP/gwi.html cursory lookups by year. Don't see any float data in the above gulf coords until 2013 or prior."
   ]
  },
  {
   "cell_type": "code",
   "execution_count": null,
   "metadata": {},
   "outputs": [],
   "source": [
    "from argis impor"
   ]
  }
 ],
 "metadata": {
  "kernelspec": {
   "display_name": "Python 3",
   "language": "python",
   "name": "python3"
  },
  "language_info": {
   "codemirror_mode": {
    "name": "ipython",
    "version": 3
   },
   "file_extension": ".py",
   "mimetype": "text/x-python",
   "name": "python",
   "nbconvert_exporter": "python",
   "pygments_lexer": "ipython3",
   "version": "3.7.6"
  }
 },
 "nbformat": 4,
 "nbformat_minor": 4
}
