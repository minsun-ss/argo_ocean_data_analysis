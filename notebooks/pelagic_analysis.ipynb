{
 "cells": [
  {
   "cell_type": "code",
   "execution_count": 2,
   "metadata": {},
   "outputs": [],
   "source": [
    "import sys\n",
    "sys.path.append('../')\n",
    "import pandas as pd\n",
    "import numpy as np\n",
    "import zipfile\n",
    "from helper import spkly"
   ]
  },
  {
   "cell_type": "code",
   "execution_count": 5,
   "metadata": {},
   "outputs": [
    {
     "data": {
      "text/plain": [
       "{'AMSPP': 'Sand Lances (Ammodytes sp.)',\n",
       " 'ARRIS': 'White Barracudina',\n",
       " 'ARSIL': 'Atlantic Argentine',\n",
       " 'BOSAI': 'Arctic Cod',\n",
       " 'CLHAR': 'Atlantic Herring',\n",
       " 'CYLUM': 'Lumpfish',\n",
       " 'GAACU': 'Threespine Stickleback',\n",
       " 'MAVIL': 'Capelin (M. villosus)',\n",
       " 'MEATL': 'Atlantic Soft Pout',\n",
       " 'MEBIL': 'Silver Hake',\n",
       " 'OSMOR': 'Rainbow Smelt',\n",
       " 'POVIR': 'Pollock',\n",
       " 'SCSCO': 'Atlantic Mackerel (S. scombrus)'}"
      ]
     },
     "execution_count": 5,
     "metadata": {},
     "output_type": "execute_result"
    }
   ],
   "source": [
    "zip = zipfile.ZipFile('../data/Teleost_Especes_Pelagiques_Abondance_2009-2018.zip')\n",
    "zip.namelist()\n",
    "\n",
    "# let's get the fish mappings - requires specific encoding to be read\n",
    "FISH_MAP = pd.read_csv('../data/DataDictionary_DictionnaireDonnees.csv', encoding='cp437', skiprows=10).set_index('Species')\n",
    "FISH_MAP = FISH_MAP[['Name _EN']].to_dict('dict')['Name _EN']\n",
    "FISH_MAP"
   ]
  },
  {
   "cell_type": "code",
   "execution_count": 10,
   "metadata": {},
   "outputs": [
    {
     "data": {
      "text/plain": [
       "(3165, 19)"
      ]
     },
     "metadata": {},
     "output_type": "display_data"
    },
    {
     "data": {
      "text/html": [
       "<table border=\"1\" class=\"dataframe\">\n",
       "  <thead>\n",
       "    <tr style=\"text-align: right;\">\n",
       "      <th></th>\n",
       "      <th></th>\n",
       "      <th>Station<?xml version=\"1.0\" encoding=\"utf-8\" standalone=\"no\"?><!DOCTYPE svg PUBLIC \"-//W3C//DTD SVG 1.1//EN\"  \"http://www.w3.org/Graphics/SVG/1.1/DTD/svg11.dtd\"><!-- Created with matplotlib (https://matplotlib.org/) --><svg height=\"41.58pt\" version=\"1.1\" viewBox=\"0 0 181.8 41.58\" width=\"181.8pt\" xmlns=\"http://www.w3.org/2000/svg\" xmlns:xlink=\"http://www.w3.org/1999/xlink\"> <defs>  <style type=\"text/css\">*{stroke-linecap:butt;stroke-linejoin:round;}  </style> </defs> <g id=\"figure_1\">  <g id=\"patch_1\">   <path d=\"M 0 41.58 L 181.8 41.58 L 181.8 0 L 0 0 z\" style=\"fill:#ffffff;\"/>  </g>  <g id=\"axes_1\">   <g id=\"line2d_1\">    <path clip-path=\"url(#p6d8bdf2701)\" d=\"M 14.809091 11.67157 L 22.055844 17.69715 L 29.302597 15.142449 L 36.549351 19.988195 L 43.796104 13.818145 L 51.042857 23.238757 L 58.28961 32.541386 L 65.536364 8.435455 L 72.783117 18.448391 L 80.02987 16.812275 L 87.276623 22.346658 L 94.523377 11.027477 L 101.77013 14.763216 L 109.016883 9.505732 L 116.263636 13.708589 L 123.51039 14.984736 L 130.757143 15.872019 L 138.003896 14.984736 L 145.250649 22.367125 L 152.497403 14.190154 L 159.744156 27.144248 L 166.990909 33.144545 \" style=\"fill:none;stroke:#1f77b4;stroke-linecap:square;stroke-width:1.5;\"/>   </g>  </g> </g> <defs>  <clipPath id=\"p6d8bdf2701\">   <rect height=\"27.18\" width=\"167.4\" x=\"7.2\" y=\"7.2\"/>  </clipPath> </defs></svg></th>\n",
       "      <th>Longitude<?xml version=\"1.0\" encoding=\"utf-8\" standalone=\"no\"?><!DOCTYPE svg PUBLIC \"-//W3C//DTD SVG 1.1//EN\"  \"http://www.w3.org/Graphics/SVG/1.1/DTD/svg11.dtd\"><!-- Created with matplotlib (https://matplotlib.org/) --><svg height=\"41.58pt\" version=\"1.1\" viewBox=\"0 0 181.8 41.58\" width=\"181.8pt\" xmlns=\"http://www.w3.org/2000/svg\" xmlns:xlink=\"http://www.w3.org/1999/xlink\"> <defs>  <style type=\"text/css\">*{stroke-linecap:butt;stroke-linejoin:round;}  </style> </defs> <g id=\"figure_1\">  <g id=\"patch_1\">   <path d=\"M 0 41.58 L 181.8 41.58 L 181.8 0 L 0 0 z\" style=\"fill:#ffffff;\"/>  </g>  <g id=\"axes_1\">   <g id=\"line2d_1\">    <path clip-path=\"url(#pa62831246a)\" d=\"M 14.809091 31.818489 L 22.055844 29.316733 L 29.302597 27.452857 L 36.549351 27.659976 L 43.796104 30.262032 L 51.042857 25.20554 L 58.28961 8.714262 L 65.536364 33.144545 L 72.783117 28.603639 L 80.02987 28.486824 L 87.276623 25.752428 L 94.523377 32.078289 L 101.77013 31.233111 L 109.016883 32.793631 L 116.263636 31.598844 L 123.51039 29.959122 L 130.757143 30.266366 L 138.003896 30.358176 L 145.250649 25.32207 L 152.497403 30.125568 L 159.744156 21.636709 L 166.990909 8.435455 \" style=\"fill:none;stroke:#1f77b4;stroke-linecap:square;stroke-width:1.5;\"/>   </g>  </g> </g> <defs>  <clipPath id=\"pa62831246a\">   <rect height=\"27.18\" width=\"167.4\" x=\"7.2\" y=\"7.2\"/>  </clipPath> </defs></svg></th>\n",
       "      <th>Latitude<?xml version=\"1.0\" encoding=\"utf-8\" standalone=\"no\"?><!DOCTYPE svg PUBLIC \"-//W3C//DTD SVG 1.1//EN\"  \"http://www.w3.org/Graphics/SVG/1.1/DTD/svg11.dtd\"><!-- Created with matplotlib (https://matplotlib.org/) --><svg height=\"41.58pt\" version=\"1.1\" viewBox=\"0 0 181.8 41.58\" width=\"181.8pt\" xmlns=\"http://www.w3.org/2000/svg\" xmlns:xlink=\"http://www.w3.org/1999/xlink\"> <defs>  <style type=\"text/css\">*{stroke-linecap:butt;stroke-linejoin:round;}  </style> </defs> <g id=\"figure_1\">  <g id=\"patch_1\">   <path d=\"M 0 41.58 L 181.8 41.58 L 181.8 0 L 0 0 z\" style=\"fill:#ffffff;\"/>  </g>  <g id=\"axes_1\">   <g id=\"line2d_1\">    <path clip-path=\"url(#p81940bdb56)\" d=\"M 14.809091 9.998854 L 22.055844 13.345988 L 29.302597 14.403308 L 36.549351 14.914772 L 43.796104 11.464515 L 51.042857 17.250464 L 58.28961 32.898012 L 65.536364 8.435455 L 72.783117 14.005476 L 80.02987 13.386648 L 87.276623 16.764063 L 94.523377 9.409073 L 101.77013 11.506237 L 109.016883 8.721723 L 116.263636 11.119199 L 123.51039 11.688412 L 130.757143 12.428948 L 138.003896 11.325137 L 145.250649 17.112534 L 152.497403 11.441999 L 159.744156 20.623958 L 166.990909 33.144545 \" style=\"fill:none;stroke:#1f77b4;stroke-linecap:square;stroke-width:1.5;\"/>   </g>  </g> </g> <defs>  <clipPath id=\"p81940bdb56\">   <rect height=\"27.18\" width=\"167.4\" x=\"7.2\" y=\"7.2\"/>  </clipPath> </defs></svg></th>\n",
       "      <th>Profondeur/Depth<?xml version=\"1.0\" encoding=\"utf-8\" standalone=\"no\"?><!DOCTYPE svg PUBLIC \"-//W3C//DTD SVG 1.1//EN\"  \"http://www.w3.org/Graphics/SVG/1.1/DTD/svg11.dtd\"><!-- Created with matplotlib (https://matplotlib.org/) --><svg height=\"41.58pt\" version=\"1.1\" viewBox=\"0 0 181.8 41.58\" width=\"181.8pt\" xmlns=\"http://www.w3.org/2000/svg\" xmlns:xlink=\"http://www.w3.org/1999/xlink\"> <defs>  <style type=\"text/css\">*{stroke-linecap:butt;stroke-linejoin:round;}  </style> </defs> <g id=\"figure_1\">  <g id=\"patch_1\">   <path d=\"M 0 41.58 L 181.8 41.58 L 181.8 0 L 0 0 z\" style=\"fill:#ffffff;\"/>  </g>  <g id=\"axes_1\">   <g id=\"line2d_1\">    <path clip-path=\"url(#p186dbd176c)\" d=\"M 14.809091 9.686806 L 22.055844 26.136749 L 29.302597 15.433608 L 36.549351 26.849214 L 43.796104 11.70281 L 51.042857 27.537855 L 58.28961 33.144545 L 65.536364 8.845008 L 72.783117 26.474262 L 80.02987 13.128023 L 87.276623 27.195803 L 94.523377 9.105092 L 101.77013 25.176963 L 109.016883 8.435455 L 116.263636 24.588159 L 123.51039 11.920634 L 130.757143 25.407834 L 138.003896 10.356444 L 145.250649 26.795609 L 152.497403 11.512214 L 159.744156 27.81921 L 166.990909 33.083283 \" style=\"fill:none;stroke:#1f77b4;stroke-linecap:square;stroke-width:1.5;\"/>   </g>  </g> </g> <defs>  <clipPath id=\"p186dbd176c\">   <rect height=\"27.18\" width=\"167.4\" x=\"7.2\" y=\"7.2\"/>  </clipPath> </defs></svg></th>\n",
       "      <th>Sand Lances (Ammodytes sp.)<?xml version=\"1.0\" encoding=\"utf-8\" standalone=\"no\"?><!DOCTYPE svg PUBLIC \"-//W3C//DTD SVG 1.1//EN\"  \"http://www.w3.org/Graphics/SVG/1.1/DTD/svg11.dtd\"><!-- Created with matplotlib (https://matplotlib.org/) --><svg height=\"41.58pt\" version=\"1.1\" viewBox=\"0 0 181.8 41.58\" width=\"181.8pt\" xmlns=\"http://www.w3.org/2000/svg\" xmlns:xlink=\"http://www.w3.org/1999/xlink\"> <defs>  <style type=\"text/css\">*{stroke-linecap:butt;stroke-linejoin:round;}  </style> </defs> <g id=\"figure_1\">  <g id=\"patch_1\">   <path d=\"M 0 41.58 L 181.8 41.58 L 181.8 0 L 0 0 z\" style=\"fill:#ffffff;\"/>  </g>  <g id=\"axes_1\">   <g id=\"line2d_1\">    <path clip-path=\"url(#pe1d29ef9dc)\" d=\"M 14.809091 33.138522 L 22.055844 33.144545 L 29.302597 33.144545 L 36.549351 33.144545 L 43.796104 33.104756 L 51.042857 33.144545 L 58.28961 33.144545 L 65.536364 33.040692 L 72.783117 33.144545 L 80.02987 32.563404 L 87.276623 33.144545 L 94.523377 32.330327 L 101.77013 8.435455 L 109.016883 33.043977 L 116.263636 33.144545 L 123.51039 32.973342 L 130.757143 33.144545 L 138.003896 33.126111 L 145.250649 33.144545 L 152.497403 33.035764 L 159.744156 33.144545 L 166.990909 33.144545 \" style=\"fill:none;stroke:#1f77b4;stroke-linecap:square;stroke-width:1.5;\"/>   </g>  </g> </g> <defs>  <clipPath id=\"pe1d29ef9dc\">   <rect height=\"27.18\" width=\"167.4\" x=\"7.2\" y=\"7.2\"/>  </clipPath> </defs></svg></th>\n",
       "      <th>White Barracudina<?xml version=\"1.0\" encoding=\"utf-8\" standalone=\"no\"?><!DOCTYPE svg PUBLIC \"-//W3C//DTD SVG 1.1//EN\"  \"http://www.w3.org/Graphics/SVG/1.1/DTD/svg11.dtd\"><!-- Created with matplotlib (https://matplotlib.org/) --><svg height=\"41.58pt\" version=\"1.1\" viewBox=\"0 0 181.8 41.58\" width=\"181.8pt\" xmlns=\"http://www.w3.org/2000/svg\" xmlns:xlink=\"http://www.w3.org/1999/xlink\"> <defs>  <style type=\"text/css\">*{stroke-linecap:butt;stroke-linejoin:round;}  </style> </defs> <g id=\"figure_1\">  <g id=\"patch_1\">   <path d=\"M 0 41.58 L 181.8 41.58 L 181.8 0 L 0 0 z\" style=\"fill:#ffffff;\"/>  </g>  <g id=\"axes_1\">   <g id=\"line2d_1\">    <path clip-path=\"url(#p5180bc030b)\" d=\"M 14.809091 8.435455 L 22.055844 31.59631 L 29.302597 27.691452 L 36.549351 32.371892 L 43.796104 24.599667 L 51.042857 32.875083 L 58.28961 33.144545 L 65.536364 27.522745 L 72.783117 32.114146 L 80.02987 24.835739 L 87.276623 32.979353 L 94.523377 22.941304 L 101.77013 32.252977 L 109.016883 22.666569 L 116.263636 32.378922 L 123.51039 12.233699 L 130.757143 32.26645 L 138.003896 28.445946 L 145.250649 32.623781 L 152.497403 30.274774 L 159.744156 33.063121 L 166.990909 33.144545 \" style=\"fill:none;stroke:#1f77b4;stroke-linecap:square;stroke-width:1.5;\"/>   </g>  </g> </g> <defs>  <clipPath id=\"p5180bc030b\">   <rect height=\"27.18\" width=\"167.4\" x=\"7.2\" y=\"7.2\"/>  </clipPath> </defs></svg></th>\n",
       "      <th>Atlantic Argentine<?xml version=\"1.0\" encoding=\"utf-8\" standalone=\"no\"?><!DOCTYPE svg PUBLIC \"-//W3C//DTD SVG 1.1//EN\"  \"http://www.w3.org/Graphics/SVG/1.1/DTD/svg11.dtd\"><!-- Created with matplotlib (https://matplotlib.org/) --><svg height=\"41.58pt\" version=\"1.1\" viewBox=\"0 0 181.8 41.58\" width=\"181.8pt\" xmlns=\"http://www.w3.org/2000/svg\" xmlns:xlink=\"http://www.w3.org/1999/xlink\"> <defs>  <style type=\"text/css\">*{stroke-linecap:butt;stroke-linejoin:round;}  </style> </defs> <g id=\"figure_1\">  <g id=\"patch_1\">   <path d=\"M 0 41.58 L 181.8 41.58 L 181.8 0 L 0 0 z\" style=\"fill:#ffffff;\"/>  </g>  <g id=\"axes_1\">   <g id=\"line2d_1\">    <path clip-path=\"url(#pe9b4b5ac8d)\" d=\"M 14.809091 32.268664 L 22.055844 33.144545 L 29.302597 32.91405 L 36.549351 33.144545 L 43.796104 32.45306 L 51.042857 33.144545 L 58.28961 33.144545 L 65.536364 31.300583 L 72.783117 33.144545 L 80.02987 31.784623 L 87.276623 33.144545 L 94.523377 31.116187 L 101.77013 33.144545 L 109.016883 27.797056 L 116.263636 33.144545 L 123.51039 24.500974 L 130.757143 33.144545 L 138.003896 19.245682 L 145.250649 33.144545 L 152.497403 8.435455 L 159.744156 33.144545 L 166.990909 33.144545 \" style=\"fill:none;stroke:#1f77b4;stroke-linecap:square;stroke-width:1.5;\"/>   </g>  </g> </g> <defs>  <clipPath id=\"pe9b4b5ac8d\">   <rect height=\"27.18\" width=\"167.4\" x=\"7.2\" y=\"7.2\"/>  </clipPath> </defs></svg></th>\n",
       "      <th>Arctic Cod<?xml version=\"1.0\" encoding=\"utf-8\" standalone=\"no\"?><!DOCTYPE svg PUBLIC \"-//W3C//DTD SVG 1.1//EN\"  \"http://www.w3.org/Graphics/SVG/1.1/DTD/svg11.dtd\"><!-- Created with matplotlib (https://matplotlib.org/) --><svg height=\"41.58pt\" version=\"1.1\" viewBox=\"0 0 181.8 41.58\" width=\"181.8pt\" xmlns=\"http://www.w3.org/2000/svg\" xmlns:xlink=\"http://www.w3.org/1999/xlink\"> <defs>  <style type=\"text/css\">*{stroke-linecap:butt;stroke-linejoin:round;}  </style> </defs> <g id=\"figure_1\">  <g id=\"patch_1\">   <path d=\"M 0 41.58 L 181.8 41.58 L 181.8 0 L 0 0 z\" style=\"fill:#ffffff;\"/>  </g>  <g id=\"axes_1\">   <g id=\"line2d_1\">    <path clip-path=\"url(#p959af0d24a)\" d=\"M 14.809091 29.118242 L 22.055844 33.058793 L 29.302597 23.299294 L 36.549351 33.144545 L 43.796104 29.608258 L 51.042857 33.062876 L 58.28961 33.144545 L 65.536364 32.544275 L 72.783117 33.144545 L 80.02987 28.236212 L 87.276623 33.144545 L 94.523377 21.939497 L 101.77013 33.005707 L 109.016883 25.757544 L 116.263636 33.144545 L 123.51039 31.339651 L 130.757143 33.144545 L 138.003896 28.117791 L 145.250649 33.144545 L 152.497403 8.435455 L 159.744156 33.103711 L 166.990909 33.144545 \" style=\"fill:none;stroke:#1f77b4;stroke-linecap:square;stroke-width:1.5;\"/>   </g>  </g> </g> <defs>  <clipPath id=\"p959af0d24a\">   <rect height=\"27.18\" width=\"167.4\" x=\"7.2\" y=\"7.2\"/>  </clipPath> </defs></svg></th>\n",
       "      <th>Atlantic Herring<?xml version=\"1.0\" encoding=\"utf-8\" standalone=\"no\"?><!DOCTYPE svg PUBLIC \"-//W3C//DTD SVG 1.1//EN\"  \"http://www.w3.org/Graphics/SVG/1.1/DTD/svg11.dtd\"><!-- Created with matplotlib (https://matplotlib.org/) --><svg height=\"41.58pt\" version=\"1.1\" viewBox=\"0 0 181.8 41.58\" width=\"181.8pt\" xmlns=\"http://www.w3.org/2000/svg\" xmlns:xlink=\"http://www.w3.org/1999/xlink\"> <defs>  <style type=\"text/css\">*{stroke-linecap:butt;stroke-linejoin:round;}  </style> </defs> <g id=\"figure_1\">  <g id=\"patch_1\">   <path d=\"M 0 41.58 L 181.8 41.58 L 181.8 0 L 0 0 z\" style=\"fill:#ffffff;\"/>  </g>  <g id=\"axes_1\">   <g id=\"line2d_1\">    <path clip-path=\"url(#p6793021865)\" d=\"M 14.809091 33.020498 L 22.055844 30.194165 L 29.302597 33.114294 L 36.549351 13.711664 L 43.796104 32.66483 L 51.042857 24.718956 L 58.28961 33.060843 L 65.536364 30.479496 L 72.783117 8.435455 L 80.02987 32.682729 L 87.276623 24.934019 L 94.523377 33.050133 L 101.77013 26.389133 L 109.016883 32.708284 L 116.263636 25.083649 L 123.51039 32.464804 L 130.757143 29.95504 L 138.003896 32.006028 L 145.250649 30.256394 L 152.497403 31.806769 L 159.744156 31.387585 L 166.990909 33.144545 \" style=\"fill:none;stroke:#1f77b4;stroke-linecap:square;stroke-width:1.5;\"/>   </g>  </g> </g> <defs>  <clipPath id=\"p6793021865\">   <rect height=\"27.18\" width=\"167.4\" x=\"7.2\" y=\"7.2\"/>  </clipPath> </defs></svg></th>\n",
       "      <th>Lumpfish<?xml version=\"1.0\" encoding=\"utf-8\" standalone=\"no\"?><!DOCTYPE svg PUBLIC \"-//W3C//DTD SVG 1.1//EN\"  \"http://www.w3.org/Graphics/SVG/1.1/DTD/svg11.dtd\"><!-- Created with matplotlib (https://matplotlib.org/) --><svg height=\"41.58pt\" version=\"1.1\" viewBox=\"0 0 181.8 41.58\" width=\"181.8pt\" xmlns=\"http://www.w3.org/2000/svg\" xmlns:xlink=\"http://www.w3.org/1999/xlink\"> <defs>  <style type=\"text/css\">*{stroke-linecap:butt;stroke-linejoin:round;}  </style> </defs> <g id=\"figure_1\">  <g id=\"patch_1\">   <path d=\"M 0 41.58 L 181.8 41.58 L 181.8 0 L 0 0 z\" style=\"fill:#ffffff;\"/>  </g>  <g id=\"axes_1\">   <g id=\"line2d_1\">    <path clip-path=\"url(#p56fd87733e)\" d=\"M 14.809091 27.766058 L 22.055844 30.215666 L 29.302597 23.079851 L 36.549351 32.612022 L 43.796104 21.269271 L 51.042857 32.612022 L 58.28961 33.144545 L 65.536364 27.792684 L 72.783117 31.813237 L 80.02987 23.931889 L 87.276623 31.680106 L 94.523377 22.281066 L 101.77013 30.987825 L 109.016883 9.686885 L 116.263636 32.878284 L 123.51039 8.435455 L 130.757143 31.360592 L 138.003896 10.645427 L 145.250649 32.159377 L 152.497403 19.165803 L 159.744156 32.265882 L 166.990909 32.878284 \" style=\"fill:none;stroke:#1f77b4;stroke-linecap:square;stroke-width:1.5;\"/>   </g>  </g> </g> <defs>  <clipPath id=\"p56fd87733e\">   <rect height=\"27.18\" width=\"167.4\" x=\"7.2\" y=\"7.2\"/>  </clipPath> </defs></svg></th>\n",
       "      <th>Threespine Stickleback<?xml version=\"1.0\" encoding=\"utf-8\" standalone=\"no\"?><!DOCTYPE svg PUBLIC \"-//W3C//DTD SVG 1.1//EN\"  \"http://www.w3.org/Graphics/SVG/1.1/DTD/svg11.dtd\"><!-- Created with matplotlib (https://matplotlib.org/) --><svg height=\"41.58pt\" version=\"1.1\" viewBox=\"0 0 181.8 41.58\" width=\"181.8pt\" xmlns=\"http://www.w3.org/2000/svg\" xmlns:xlink=\"http://www.w3.org/1999/xlink\"> <defs>  <style type=\"text/css\">*{stroke-linecap:butt;stroke-linejoin:round;}  </style> </defs> <g id=\"figure_1\">  <g id=\"patch_1\">   <path d=\"M 0 41.58 L 181.8 41.58 L 181.8 0 L 0 0 z\" style=\"fill:#ffffff;\"/>  </g>  <g id=\"axes_1\">   <g id=\"line2d_1\">    <path clip-path=\"url(#pece1174051)\" d=\"M 14.809091 32.302242 L 22.055844 19.127594 L 29.302597 32.605362 L 36.549351 8.435455 L 43.796104 33.109204 L 51.042857 32.9769 L 58.28961 33.144545 L 65.536364 33.085643 L 72.783117 15.40723 L 80.02987 33.097877 L 87.276623 30.217551 L 94.523377 32.9769 L 101.77013 30.59951 L 109.016883 33.083831 L 116.263636 32.401923 L 123.51039 33.128234 L 130.757143 32.277774 L 138.003896 33.140015 L 145.250649 33.008164 L 152.497403 33.134124 L 159.744156 32.728151 L 166.990909 33.144545 \" style=\"fill:none;stroke:#1f77b4;stroke-linecap:square;stroke-width:1.5;\"/>   </g>  </g> </g> <defs>  <clipPath id=\"pece1174051\">   <rect height=\"27.18\" width=\"167.4\" x=\"7.2\" y=\"7.2\"/>  </clipPath> </defs></svg></th>\n",
       "      <th>Capelin (M. villosus)<?xml version=\"1.0\" encoding=\"utf-8\" standalone=\"no\"?><!DOCTYPE svg PUBLIC \"-//W3C//DTD SVG 1.1//EN\"  \"http://www.w3.org/Graphics/SVG/1.1/DTD/svg11.dtd\"><!-- Created with matplotlib (https://matplotlib.org/) --><svg height=\"41.58pt\" version=\"1.1\" viewBox=\"0 0 181.8 41.58\" width=\"181.8pt\" xmlns=\"http://www.w3.org/2000/svg\" xmlns:xlink=\"http://www.w3.org/1999/xlink\"> <defs>  <style type=\"text/css\">*{stroke-linecap:butt;stroke-linejoin:round;}  </style> </defs> <g id=\"figure_1\">  <g id=\"patch_1\">   <path d=\"M 0 41.58 L 181.8 41.58 L 181.8 0 L 0 0 z\" style=\"fill:#ffffff;\"/>  </g>  <g id=\"axes_1\">   <g id=\"line2d_1\">    <path clip-path=\"url(#pf6f6b7117c)\" d=\"M 14.809091 10.984416 L 22.055844 30.48839 L 29.302597 8.435455 L 36.549351 19.469328 L 43.796104 10.233533 L 51.042857 24.640214 L 58.28961 31.522846 L 65.536364 24.920715 L 72.783117 26.978299 L 80.02987 28.44427 L 87.276623 22.713108 L 94.523377 31.998868 L 101.77013 22.99148 L 109.016883 29.215241 L 116.263636 26.337015 L 123.51039 32.842774 L 130.757143 31.82686 L 138.003896 25.423199 L 145.250649 23.401047 L 152.497403 30.986704 L 159.744156 31.671274 L 166.990909 33.144545 \" style=\"fill:none;stroke:#1f77b4;stroke-linecap:square;stroke-width:1.5;\"/>   </g>  </g> </g> <defs>  <clipPath id=\"pf6f6b7117c\">   <rect height=\"27.18\" width=\"167.4\" x=\"7.2\" y=\"7.2\"/>  </clipPath> </defs></svg></th>\n",
       "      <th>Atlantic Soft Pout<?xml version=\"1.0\" encoding=\"utf-8\" standalone=\"no\"?><!DOCTYPE svg PUBLIC \"-//W3C//DTD SVG 1.1//EN\"  \"http://www.w3.org/Graphics/SVG/1.1/DTD/svg11.dtd\"><!-- Created with matplotlib (https://matplotlib.org/) --><svg height=\"41.58pt\" version=\"1.1\" viewBox=\"0 0 181.8 41.58\" width=\"181.8pt\" xmlns=\"http://www.w3.org/2000/svg\" xmlns:xlink=\"http://www.w3.org/1999/xlink\"> <defs>  <style type=\"text/css\">*{stroke-linecap:butt;stroke-linejoin:round;}  </style> </defs> <g id=\"figure_1\">  <g id=\"patch_1\">   <path d=\"M 0 41.58 L 181.8 41.58 L 181.8 0 L 0 0 z\" style=\"fill:#ffffff;\"/>  </g>  <g id=\"axes_1\">   <g id=\"line2d_1\">    <path clip-path=\"url(#pe31fcaa791)\" d=\"M 14.809091 8.435455 L 22.055844 31.341575 L 29.302597 14.447688 L 36.549351 32.627787 L 43.796104 8.443324 L 51.042857 32.856 L 58.28961 33.144545 L 65.536364 20.130281 L 72.783117 31.215664 L 80.02987 13.904698 L 87.276623 31.74991 L 94.523377 18.15156 L 101.77013 31.249765 L 109.016883 26.745836 L 116.263636 32.702984 L 123.51039 30.433095 L 130.757143 32.725718 L 138.003896 30.882526 L 145.250649 32.733587 L 152.497403 29.682003 L 159.744156 33.058856 L 166.990909 33.144545 \" style=\"fill:none;stroke:#1f77b4;stroke-linecap:square;stroke-width:1.5;\"/>   </g>  </g> </g> <defs>  <clipPath id=\"pe31fcaa791\">   <rect height=\"27.18\" width=\"167.4\" x=\"7.2\" y=\"7.2\"/>  </clipPath> </defs></svg></th>\n",
       "      <th>Silver Hake<?xml version=\"1.0\" encoding=\"utf-8\" standalone=\"no\"?><!DOCTYPE svg PUBLIC \"-//W3C//DTD SVG 1.1//EN\"  \"http://www.w3.org/Graphics/SVG/1.1/DTD/svg11.dtd\"><!-- Created with matplotlib (https://matplotlib.org/) --><svg height=\"41.58pt\" version=\"1.1\" viewBox=\"0 0 181.8 41.58\" width=\"181.8pt\" xmlns=\"http://www.w3.org/2000/svg\" xmlns:xlink=\"http://www.w3.org/1999/xlink\"> <defs>  <style type=\"text/css\">*{stroke-linecap:butt;stroke-linejoin:round;}  </style> </defs> <g id=\"figure_1\">  <g id=\"patch_1\">   <path d=\"M 0 41.58 L 181.8 41.58 L 181.8 0 L 0 0 z\" style=\"fill:#ffffff;\"/>  </g>  <g id=\"axes_1\">   <g id=\"line2d_1\">    <path clip-path=\"url(#p379b5bdac6)\" d=\"M 14.809091 31.961001 L 22.055844 32.912681 L 29.302597 30.085325 L 36.549351 33.068411 L 43.796104 25.925615 L 51.042857 32.826165 L 58.28961 33.144545 L 65.536364 29.825775 L 72.783117 32.69466 L 80.02987 8.435455 L 87.276623 32.255157 L 94.523377 24.060321 L 101.77013 32.386662 L 109.016883 28.469198 L 116.263636 32.525088 L 123.51039 31.348464 L 130.757143 31.389992 L 138.003896 28.002009 L 145.250649 32.545852 L 152.497403 25.863323 L 159.744156 32.317448 L 166.990909 33.109939 \" style=\"fill:none;stroke:#1f77b4;stroke-linecap:square;stroke-width:1.5;\"/>   </g>  </g> </g> <defs>  <clipPath id=\"p379b5bdac6\">   <rect height=\"27.18\" width=\"167.4\" x=\"7.2\" y=\"7.2\"/>  </clipPath> </defs></svg></th>\n",
       "      <th>Rainbow Smelt<?xml version=\"1.0\" encoding=\"utf-8\" standalone=\"no\"?><!DOCTYPE svg PUBLIC \"-//W3C//DTD SVG 1.1//EN\"  \"http://www.w3.org/Graphics/SVG/1.1/DTD/svg11.dtd\"><!-- Created with matplotlib (https://matplotlib.org/) --><svg height=\"41.58pt\" version=\"1.1\" viewBox=\"0 0 181.8 41.58\" width=\"181.8pt\" xmlns=\"http://www.w3.org/2000/svg\" xmlns:xlink=\"http://www.w3.org/1999/xlink\"> <defs>  <style type=\"text/css\">*{stroke-linecap:butt;stroke-linejoin:round;}  </style> </defs> <g id=\"figure_1\">  <g id=\"patch_1\">   <path d=\"M 0 41.58 L 181.8 41.58 L 181.8 0 L 0 0 z\" style=\"fill:#ffffff;\"/>  </g>  <g id=\"axes_1\">   <g id=\"line2d_1\">    <path clip-path=\"url(#pa40cf79046)\" d=\"M 14.809091 33.144545 L 22.055844 22.666859 L 29.302597 33.144545 L 36.549351 17.612389 L 43.796104 33.144545 L 51.042857 29.553844 L 58.28961 33.144545 L 65.536364 33.144545 L 72.783117 24.464623 L 80.02987 33.144545 L 87.276623 25.501122 L 94.523377 33.144545 L 101.77013 14.122562 L 109.016883 33.144545 L 116.263636 8.435455 L 123.51039 33.144545 L 130.757143 12.992912 L 138.003896 33.144545 L 145.250649 12.255658 L 152.497403 33.144545 L 159.744156 25.548784 L 166.990909 33.144545 \" style=\"fill:none;stroke:#1f77b4;stroke-linecap:square;stroke-width:1.5;\"/>   </g>  </g> </g> <defs>  <clipPath id=\"pa40cf79046\">   <rect height=\"27.18\" width=\"167.4\" x=\"7.2\" y=\"7.2\"/>  </clipPath> </defs></svg></th>\n",
       "      <th>Pollock<?xml version=\"1.0\" encoding=\"utf-8\" standalone=\"no\"?><!DOCTYPE svg PUBLIC \"-//W3C//DTD SVG 1.1//EN\"  \"http://www.w3.org/Graphics/SVG/1.1/DTD/svg11.dtd\"><!-- Created with matplotlib (https://matplotlib.org/) --><svg height=\"41.58pt\" version=\"1.1\" viewBox=\"0 0 181.8 41.58\" width=\"181.8pt\" xmlns=\"http://www.w3.org/2000/svg\" xmlns:xlink=\"http://www.w3.org/1999/xlink\"> <defs>  <style type=\"text/css\">*{stroke-linecap:butt;stroke-linejoin:round;}  </style> </defs> <g id=\"figure_1\">  <g id=\"patch_1\">   <path d=\"M 0 41.58 L 181.8 41.58 L 181.8 0 L 0 0 z\" style=\"fill:#ffffff;\"/>  </g>  <g id=\"axes_1\">   <g id=\"line2d_1\">    <path clip-path=\"url(#p6ab7b94ff0)\" d=\"M 14.809091 33.044823 L 22.055844 33.033742 L 29.302597 33.144545 L 36.549351 33.144545 L 43.796104 33.144545 L 51.042857 33.011582 L 58.28961 33.144545 L 65.536364 32.922939 L 72.783117 33.144545 L 80.02987 31.958952 L 87.276623 32.922939 L 94.523377 33.144545 L 101.77013 33.144545 L 109.016883 32.712413 L 116.263636 33.144545 L 123.51039 33.033742 L 130.757143 32.57945 L 138.003896 32.701333 L 145.250649 33.033742 L 152.497403 32.845377 L 159.744156 8.435455 L 166.990909 33.144545 \" style=\"fill:none;stroke:#1f77b4;stroke-linecap:square;stroke-width:1.5;\"/>   </g>  </g> </g> <defs>  <clipPath id=\"p6ab7b94ff0\">   <rect height=\"27.18\" width=\"167.4\" x=\"7.2\" y=\"7.2\"/>  </clipPath> </defs></svg></th>\n",
       "      <th>Atlantic Mackerel (S. scombrus)<?xml version=\"1.0\" encoding=\"utf-8\" standalone=\"no\"?><!DOCTYPE svg PUBLIC \"-//W3C//DTD SVG 1.1//EN\"  \"http://www.w3.org/Graphics/SVG/1.1/DTD/svg11.dtd\"><!-- Created with matplotlib (https://matplotlib.org/) --><svg height=\"41.58pt\" version=\"1.1\" viewBox=\"0 0 181.8 41.58\" width=\"181.8pt\" xmlns=\"http://www.w3.org/2000/svg\" xmlns:xlink=\"http://www.w3.org/1999/xlink\"> <defs>  <style type=\"text/css\">*{stroke-linecap:butt;stroke-linejoin:round;}  </style> </defs> <g id=\"figure_1\">  <g id=\"patch_1\">   <path d=\"M 0 41.58 L 181.8 41.58 L 181.8 0 L 0 0 z\" style=\"fill:#ffffff;\"/>  </g>  <g id=\"axes_1\">   <g id=\"line2d_1\">    <path clip-path=\"url(#p7d9634744e)\" d=\"M 14.809091 33.134998 L 22.055844 31.811802 L 29.302597 33.127754 L 36.549351 21.261135 L 43.796104 33.062566 L 51.042857 17.950018 L 58.28961 33.144545 L 65.536364 33.128084 L 72.783117 30.757921 L 80.02987 33.137961 L 87.276623 32.119307 L 94.523377 33.046763 L 101.77013 22.900726 L 109.016883 31.090119 L 116.263636 24.08268 L 123.51039 33.083308 L 130.757143 8.435455 L 138.003896 32.166059 L 145.250649 28.791729 L 152.497403 32.746171 L 159.744156 15.248974 L 166.990909 33.134668 \" style=\"fill:none;stroke:#1f77b4;stroke-linecap:square;stroke-width:1.5;\"/>   </g>  </g> </g> <defs>  <clipPath id=\"p7d9634744e\">   <rect height=\"27.18\" width=\"167.4\" x=\"7.2\" y=\"7.2\"/>  </clipPath> </defs></svg></th>\n",
       "    </tr>\n",
       "    <tr>\n",
       "      <th>Date</th>\n",
       "      <th>Date</th>\n",
       "      <th></th>\n",
       "      <th></th>\n",
       "      <th></th>\n",
       "      <th></th>\n",
       "      <th></th>\n",
       "      <th></th>\n",
       "      <th></th>\n",
       "      <th></th>\n",
       "      <th></th>\n",
       "      <th></th>\n",
       "      <th></th>\n",
       "      <th></th>\n",
       "      <th></th>\n",
       "      <th></th>\n",
       "      <th></th>\n",
       "      <th></th>\n",
       "      <th></th>\n",
       "    </tr>\n",
       "  </thead>\n",
       "  <tbody>\n",
       "    <tr>\n",
       "      <th rowspan=\"2\" valign=\"top\">2009</th>\n",
       "      <th>8</th>\n",
       "      <td>18475</td>\n",
       "      <td>-11056.761083</td>\n",
       "      <td>8706.707667</td>\n",
       "      <td>41789.5</td>\n",
       "      <td>3.3</td>\n",
       "      <td>4218.1</td>\n",
       "      <td>3.8</td>\n",
       "      <td>98.6</td>\n",
       "      <td>905.8</td>\n",
       "      <td>20.2</td>\n",
       "      <td>185.9</td>\n",
       "      <td>232218.9</td>\n",
       "      <td>2825.9</td>\n",
       "      <td>34.2</td>\n",
       "      <td>0.0</td>\n",
       "      <td>0.9</td>\n",
       "      <td>2.9</td>\n",
       "    </tr>\n",
       "    <tr>\n",
       "      <th>9</th>\n",
       "      <td>13470</td>\n",
       "      <td>-9912.839833</td>\n",
       "      <td>7488.690167</td>\n",
       "      <td>12790.0</td>\n",
       "      <td>0.0</td>\n",
       "      <td>264.3</td>\n",
       "      <td>0.0</td>\n",
       "      <td>2.1</td>\n",
       "      <td>21543.8</td>\n",
       "      <td>11.0</td>\n",
       "      <td>3093.6</td>\n",
       "      <td>27834.2</td>\n",
       "      <td>206.2</td>\n",
       "      <td>6.7</td>\n",
       "      <td>8683.4</td>\n",
       "      <td>1.0</td>\n",
       "      <td>404.8</td>\n",
       "    </tr>\n",
       "    <tr>\n",
       "      <th>2010</th>\n",
       "      <th>8</th>\n",
       "      <td>15592</td>\n",
       "      <td>-9060.587833</td>\n",
       "      <td>7103.932583</td>\n",
       "      <td>31658.5</td>\n",
       "      <td>0.0</td>\n",
       "      <td>930.9</td>\n",
       "      <td>1.0</td>\n",
       "      <td>241.1</td>\n",
       "      <td>220.9</td>\n",
       "      <td>37.8</td>\n",
       "      <td>119.0</td>\n",
       "      <td>258929.8</td>\n",
       "      <td>2138.3</td>\n",
       "      <td>88.4</td>\n",
       "      <td>0.0</td>\n",
       "      <td>0.0</td>\n",
       "      <td>5.1</td>\n",
       "    </tr>\n",
       "    <tr>\n",
       "      <th>...</th>\n",
       "      <th>...</th>\n",
       "      <td>...</td>\n",
       "      <td>...</td>\n",
       "      <td>...</td>\n",
       "      <td>...</td>\n",
       "      <td>...</td>\n",
       "      <td>...</td>\n",
       "      <td>...</td>\n",
       "      <td>...</td>\n",
       "      <td>...</td>\n",
       "      <td>...</td>\n",
       "      <td>...</td>\n",
       "      <td>...</td>\n",
       "      <td>...</td>\n",
       "      <td>...</td>\n",
       "      <td>...</td>\n",
       "      <td>...</td>\n",
       "      <td>...</td>\n",
       "    </tr>\n",
       "    <tr>\n",
       "      <th rowspan=\"3\" valign=\"top\">2018</th>\n",
       "      <th>8</th>\n",
       "      <td>16383</td>\n",
       "      <td>-10282.677500</td>\n",
       "      <td>8181.549000</td>\n",
       "      <td>38571.5</td>\n",
       "      <td>59.6</td>\n",
       "      <td>489.9</td>\n",
       "      <td>107.2</td>\n",
       "      <td>605.1</td>\n",
       "      <td>9768.5</td>\n",
       "      <td>52.5</td>\n",
       "      <td>2.3</td>\n",
       "      <td>22612.3</td>\n",
       "      <td>396.0</td>\n",
       "      <td>210.4</td>\n",
       "      <td>0.0</td>\n",
       "      <td>2.7</td>\n",
       "      <td>121.0</td>\n",
       "    </tr>\n",
       "    <tr>\n",
       "      <th>9</th>\n",
       "      <td>5623</td>\n",
       "      <td>-6401.170167</td>\n",
       "      <td>4840.246583</td>\n",
       "      <td>9824.0</td>\n",
       "      <td>0.0</td>\n",
       "      <td>13.9</td>\n",
       "      <td>0.0</td>\n",
       "      <td>1.0</td>\n",
       "      <td>12829.4</td>\n",
       "      <td>3.3</td>\n",
       "      <td>91.9</td>\n",
       "      <td>15438.6</td>\n",
       "      <td>9.8</td>\n",
       "      <td>23.9</td>\n",
       "      <td>6295.0</td>\n",
       "      <td>223.0</td>\n",
       "      <td>5435.5</td>\n",
       "    </tr>\n",
       "    <tr>\n",
       "      <th>10</th>\n",
       "      <td>639</td>\n",
       "      <td>-364.932667</td>\n",
       "      <td>284.021833</td>\n",
       "      <td>544.0</td>\n",
       "      <td>0.0</td>\n",
       "      <td>0.0</td>\n",
       "      <td>0.0</td>\n",
       "      <td>0.0</td>\n",
       "      <td>0.0</td>\n",
       "      <td>1.0</td>\n",
       "      <td>0.0</td>\n",
       "      <td>0.0</td>\n",
       "      <td>0.0</td>\n",
       "      <td>1.0</td>\n",
       "      <td>0.0</td>\n",
       "      <td>0.0</td>\n",
       "      <td>3.0</td>\n",
       "    </tr>\n",
       "  </tbody>\n",
       "</table>"
      ],
      "text/plain": [
       "<IPython.core.display.HTML object>"
      ]
     },
     "execution_count": 10,
     "metadata": {},
     "output_type": "execute_result"
    }
   ],
   "source": [
    "import datetime \n",
    "\n",
    "north_fish, south_fish = pd.read_csv(zip.open(zip.namelist()[0])), pd.read_csv(zip.open(zip.namelist()[1]))\n",
    "north_fish['region'] = 'NORTH'\n",
    "south_fish['region'] = 'SOUTH'\n",
    "\n",
    "# let's just append the two datasets together and rename the fish mappings to something slightly more human readable \n",
    "fish_set = pd.concat([north_fish, south_fish]).rename(columns=FISH_MAP).copy()\n",
    "fish_set['Date'] = pd.to_datetime(fish_set['Date'])\n",
    "display(fish_set.shape)\n",
    "\n",
    "# these sparkline image volumes don't look very promising for some species... e.g., sand lances. Also see that this data is only collected 3\n",
    "# months out of a year!\n",
    "spkly.display(fish_set.groupby([fish_set['Date'].dt.year, fish_set['Date'].dt.month]).sum())"
   ]
  },
  {
   "cell_type": "code",
   "execution_count": 14,
   "metadata": {},
   "outputs": [
    {
     "data": {
      "text/plain": [
       "Date                               datetime64[ns]\n",
       "Station                                     int64\n",
       "Longitude                                 float64\n",
       "Latitude                                  float64\n",
       "Profondeur/Depth                          float64\n",
       "Sand Lances (Ammodytes sp.)               float64\n",
       "White Barracudina                         float64\n",
       "Atlantic Argentine                        float64\n",
       "Arctic Cod                                float64\n",
       "Atlantic Herring                          float64\n",
       "Lumpfish                                  float64\n",
       "Threespine Stickleback                    float64\n",
       "Capelin (M. villosus)                     float64\n",
       "Atlantic Soft Pout                        float64\n",
       "Silver Hake                               float64\n",
       "Rainbow Smelt                             float64\n",
       "Pollock                                   float64\n",
       "Atlantic Mackerel (S. scombrus)           float64\n",
       "region                                     object\n",
       "dtype: object"
      ]
     },
     "execution_count": 14,
     "metadata": {},
     "output_type": "execute_result"
    }
   ],
   "source": [
    "fish_set.dtypes"
   ]
  },
  {
   "cell_type": "code",
   "execution_count": null,
   "outputs": [],
   "source": [
    "import folium\n",
    "\n",
    "import folium\n",
    "m = folium.Map(location=[50, -60], zoom_start=4.5, tiles='Stamen Terrain')\n",
    "\n",
    "for flt in fish_set.index[:10]:\n",
    "    folium.Marker(location=[fish_set[\"Latitude\"].iloc[flt], fish_set[\"Longitude\"].iloc[flt]]).add_to(m)\n",
    "m"
   ],
   "metadata": {
    "collapsed": false,
    "pycharm": {
     "name": "#%%\n"
    }
   }
  },
  {
   "cell_type": "code",
   "execution_count": 12,
   "metadata": {},
   "outputs": [
    {
     "data": {
      "text/html": [
       "<div style=\"width:100%;\"><div style=\"position:relative;width:100%;height:0;padding-bottom:60%;\"><span style=\"color:#565656\">Make this Notebook Trusted to load map: File -> Trust Notebook</span><iframe src=\"about:blank\" style=\"position:absolute;width:100%;height:100%;left:0;top:0;border:none !important;\" data-html=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 onload=\"this.contentDocument.open();this.contentDocument.write(atob(this.getAttribute('data-html')));this.contentDocument.close();\" allowfullscreen webkitallowfullscreen mozallowfullscreen></iframe></div></div>"
      ],
      "text/plain": [
       "<folium.folium.Map at 0x2099ce31d48>"
      ]
     },
     "execution_count": 12,
     "metadata": {},
     "output_type": "execute_result"
    }
   ],
   "source": []
  },
  {
   "cell_type": "code",
   "execution_count": null,
   "metadata": {},
   "outputs": [],
   "source": []
  }
 ],
 "metadata": {
  "kernelspec": {
   "display_name": "Python 3",
   "language": "python",
   "name": "python3"
  },
  "language_info": {
   "codemirror_mode": {
    "name": "ipython",
    "version": 3
   },
   "file_extension": ".py",
   "mimetype": "text/x-python",
   "name": "python",
   "nbconvert_exporter": "python",
   "pygments_lexer": "ipython3",
   "version": "3.7.6"
  }
 },
 "nbformat": 4,
 "nbformat_minor": 4
}