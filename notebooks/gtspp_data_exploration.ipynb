{
 "cells": [
  {
   "cell_type": "code",
   "execution_count": 4,
   "metadata": {},
   "outputs": [],
   "source": [
    "import sys\n",
    "sys.path.append('../')\n",
    "import pandas as pd\n",
    "import numpy as np\n",
    "import netCDF4\n",
    "from helper import db\n",
    "import math\n"
   ]
  },
  {
   "cell_type": "code",
   "execution_count": 39,
   "metadata": {},
   "outputs": [],
   "source": [
    "data = netCDF4.Dataset('../data/gtspp_13050025_te_111.nc')\n",
    "data.variables;"
   ]
  },
  {
   "cell_type": "code",
   "execution_count": 49,
   "metadata": {},
   "outputs": [
    {
     "ename": "FileNotFoundError",
     "evalue": "[WinError 3] The system cannot find the path specified: '../data/atlantic/2012/08'",
     "output_type": "error",
     "traceback": [
      "\u001b[1;31m---------------------------------------------------------------------------\u001b[0m",
      "\u001b[1;31mFileNotFoundError\u001b[0m                         Traceback (most recent call last)",
      "\u001b[1;32m<ipython-input-49-82b2878c176e>\u001b[0m in \u001b[0;36m<module>\u001b[1;34m\u001b[0m\n\u001b[0;32m      8\u001b[0m \u001b[0mgstpp_directory\u001b[0m\u001b[1;33m=\u001b[0m\u001b[1;34m'../data/atlantic/2012/08'\u001b[0m\u001b[1;33m\u001b[0m\u001b[1;33m\u001b[0m\u001b[0m\n\u001b[0;32m      9\u001b[0m \u001b[0mlatitude\u001b[0m\u001b[1;33m,\u001b[0m \u001b[0mlongitude\u001b[0m \u001b[1;33m=\u001b[0m \u001b[1;33m[\u001b[0m\u001b[1;33m]\u001b[0m\u001b[1;33m,\u001b[0m \u001b[1;33m[\u001b[0m\u001b[1;33m]\u001b[0m\u001b[1;33m\u001b[0m\u001b[1;33m\u001b[0m\u001b[0m\n\u001b[1;32m---> 10\u001b[1;33m \u001b[1;32mfor\u001b[0m \u001b[0mfile\u001b[0m \u001b[1;32min\u001b[0m \u001b[0mos\u001b[0m\u001b[1;33m.\u001b[0m\u001b[0mlistdir\u001b[0m\u001b[1;33m(\u001b[0m\u001b[0mgstpp_directory\u001b[0m\u001b[1;33m)\u001b[0m\u001b[1;33m:\u001b[0m\u001b[1;33m\u001b[0m\u001b[1;33m\u001b[0m\u001b[0m\n\u001b[0m\u001b[0;32m     11\u001b[0m     \u001b[0mcdf_coordinates\u001b[0m \u001b[1;33m=\u001b[0m \u001b[0mnetCDF4\u001b[0m\u001b[1;33m.\u001b[0m\u001b[0mDataset\u001b[0m\u001b[1;33m(\u001b[0m\u001b[1;34mf'{gstpp_directory}/{file}'\u001b[0m\u001b[1;33m)\u001b[0m\u001b[1;33m\u001b[0m\u001b[1;33m\u001b[0m\u001b[0m\n\u001b[0;32m     12\u001b[0m     \u001b[0mprint\u001b[0m\u001b[1;33m(\u001b[0m\u001b[1;33m)\u001b[0m\u001b[1;33m\u001b[0m\u001b[1;33m\u001b[0m\u001b[0m\n",
      "\u001b[1;31mFileNotFoundError\u001b[0m: [WinError 3] The system cannot find the path specified: '../data/atlantic/2012/08'"
     ]
    }
   ],
   "source": [
    "from os import listdir\n",
    "import os\n",
    "\n",
    "gulf_coords = [(51.416032, -57.011715), (45.659196, -57.011715), (51.416032, -66.196285), (45.659196, -66.196285) ]\n",
    "latitude_min, latitude_max = 45.659196, 51.416032 \n",
    "longitude_min, longitude_max = -66.196285, -57.011715\n",
    "\n",
    "gstpp_directory='../data/atlantic/2012/08'\n",
    "latitude, longitude = [], []\n",
    "for file in os.listdir(gstpp_directory):\n",
    "    cdf_coordinates = netCDF4.Dataset(f'{gstpp_directory}/{file}')\n",
    "    print()\n",
    "    array_lat, array_long = cdf_coordinates.variables['latitude'][:], cdf_coordinates.variables['longitude'][:]\n",
    "    lat = array_lat[array_lat.mask==False].data[0].tolist()[0]\n",
    "    long = array_long[array_long.mask==False].data[0].tolist()[0]\n",
    "\n",
    "    if ((lat >= latitude_min) & (lat <= latitude_max) & (long >= longitude_min) & (long <= longitude_max)):        \n",
    "        latitude.append(lat)\n",
    "        longitude.append(long)\n",
    "    if len(latitude)>=10:\n",
    "        break\n",
    "    \n",
    "coords = pd.DataFrame(list(zip(latitude, longitude)), columns=['latitude', 'longitude']);\n",
    "# coords = pd.DataFrame(gulf_1, columns=['latitude', 'longitude'])"
   ]
  },
  {
   "cell_type": "code",
   "execution_count": 36,
   "metadata": {},
   "outputs": [],
   "source": [
    "import pandas as pd\n",
    "sql = \"\"\"SELECT longitude, latitude, station_id, measure_time, salinity, depth, temperature FROM gtspp \n",
    "WHERE EXTRACT(YEAR FROM measure_time)=2019 AND position_quality=1 \n",
    "AND measure_time_quality=1 AND salinity_quality=1 AND depth_quality=1 AND temperature_quality=1;\"\"\"\n",
    "\n",
    "good_data_df = db.run_query(sql)\n",
    "bin_max = (math.ceil(good_data_df['depth'].max()/100)+1)*100\n",
    "cut_bins = [i for i in range(0, bin_max, 100)]"
   ]
  },
  {
   "cell_type": "code",
   "execution_count": 47,
   "metadata": {},
   "outputs": [],
   "source": [
    "good_data_df['depth_bin'] = pd.cut(good_data_df['depth'], cut_bins, right=False)\n",
    "good_data_df['depth_bin'] = good_data_df['depth_bin'].astype('str')\n",
    "grouped_df = good_data_df.groupby(['measure_time', 'latitude', 'longitude', 'station_id', 'depth_bin'])[['salinity', 'temperature']].mean().reset_index()\n",
    "\n",
    "\n",
    "RENAME_COLUMNS = {'measure_time': 'data_date', 'station_id': 'floatid', 'depth_bin': 'depth'}\n",
    "grouped_df.rename(columns=RENAME_COLUMNS, inplace=True)\n",
    "grouped_df['data_source']='GTSPP'\n",
    "\n"
   ]
  },
  {
   "cell_type": "code",
   "execution_count": 51,
   "metadata": {},
   "outputs": [
    {
     "data": {
      "text/html": [
       "<div>\n",
       "<style scoped>\n",
       "    .dataframe tbody tr th:only-of-type {\n",
       "        vertical-align: middle;\n",
       "    }\n",
       "\n",
       "    .dataframe tbody tr th {\n",
       "        vertical-align: top;\n",
       "    }\n",
       "\n",
       "    .dataframe thead th {\n",
       "        text-align: right;\n",
       "    }\n",
       "</style>\n",
       "<table border=\"1\" class=\"dataframe\">\n",
       "  <thead>\n",
       "    <tr style=\"text-align: right;\">\n",
       "      <th></th>\n",
       "      <th>data_date</th>\n",
       "      <th>latitude</th>\n",
       "      <th>longitude</th>\n",
       "      <th>floatid</th>\n",
       "      <th>depth</th>\n",
       "      <th>salinity</th>\n",
       "      <th>temperature</th>\n",
       "      <th>data_source</th>\n",
       "    </tr>\n",
       "  </thead>\n",
       "  <tbody>\n",
       "    <tr>\n",
       "      <th>0</th>\n",
       "      <td>2019-03-02 19:24:59.990860</td>\n",
       "      <td>46.8470001221</td>\n",
       "      <td>-71.1157989502</td>\n",
       "      <td>34707183</td>\n",
       "      <td>[0, 100)</td>\n",
       "      <td>0.120000</td>\n",
       "      <td>0.130000</td>\n",
       "      <td>GTSPP</td>\n",
       "    </tr>\n",
       "    <tr>\n",
       "      <th>1</th>\n",
       "      <td>2019-03-02 19:51:59.966150</td>\n",
       "      <td>46.9160003662</td>\n",
       "      <td>-70.8898010254</td>\n",
       "      <td>34707179</td>\n",
       "      <td>[0, 100)</td>\n",
       "      <td>0.120000</td>\n",
       "      <td>0.100000</td>\n",
       "      <td>GTSPP</td>\n",
       "    </tr>\n",
       "    <tr>\n",
       "      <th>2</th>\n",
       "      <td>2019-03-03 13:05:59.980790</td>\n",
       "      <td>47.9192008972</td>\n",
       "      <td>-69.7817993164</td>\n",
       "      <td>34707171</td>\n",
       "      <td>[0, 100)</td>\n",
       "      <td>28.692353</td>\n",
       "      <td>1.175882</td>\n",
       "      <td>GTSPP</td>\n",
       "    </tr>\n",
       "    <tr>\n",
       "      <th>3</th>\n",
       "      <td>2019-03-03 13:05:59.980790</td>\n",
       "      <td>47.9192008972</td>\n",
       "      <td>-69.7817993164</td>\n",
       "      <td>34707171</td>\n",
       "      <td>[100, 200)</td>\n",
       "      <td>31.500000</td>\n",
       "      <td>1.830000</td>\n",
       "      <td>GTSPP</td>\n",
       "    </tr>\n",
       "    <tr>\n",
       "      <th>4</th>\n",
       "      <td>2019-03-03 13:35:59.994499</td>\n",
       "      <td>48.2923011780</td>\n",
       "      <td>-69.2517013550</td>\n",
       "      <td>34707172</td>\n",
       "      <td>[0, 100)</td>\n",
       "      <td>31.024286</td>\n",
       "      <td>1.799286</td>\n",
       "      <td>GTSPP</td>\n",
       "    </tr>\n",
       "  </tbody>\n",
       "</table>\n",
       "</div>"
      ],
      "text/plain": [
       "                   data_date       latitude       longitude   floatid  \\\n",
       "0 2019-03-02 19:24:59.990860  46.8470001221  -71.1157989502  34707183   \n",
       "1 2019-03-02 19:51:59.966150  46.9160003662  -70.8898010254  34707179   \n",
       "2 2019-03-03 13:05:59.980790  47.9192008972  -69.7817993164  34707171   \n",
       "3 2019-03-03 13:05:59.980790  47.9192008972  -69.7817993164  34707171   \n",
       "4 2019-03-03 13:35:59.994499  48.2923011780  -69.2517013550  34707172   \n",
       "\n",
       "        depth   salinity  temperature data_source  \n",
       "0    [0, 100)   0.120000     0.130000       GTSPP  \n",
       "1    [0, 100)   0.120000     0.100000       GTSPP  \n",
       "2    [0, 100)  28.692353     1.175882       GTSPP  \n",
       "3  [100, 200)  31.500000     1.830000       GTSPP  \n",
       "4    [0, 100)  31.024286     1.799286       GTSPP  "
      ]
     },
     "execution_count": 51,
     "metadata": {},
     "output_type": "execute_result"
    }
   ],
   "source": [
    "grouped_df.head()"
   ]
  },
  {
   "cell_type": "code",
   "execution_count": 1,
   "metadata": {},
   "outputs": [
    {
     "ename": "NameError",
     "evalue": "name 'df' is not defined",
     "output_type": "error",
     "traceback": [
      "\u001b[1;31m---------------------------------------------------------------------------\u001b[0m",
      "\u001b[1;31mNameError\u001b[0m                                 Traceback (most recent call last)",
      "\u001b[1;32m<ipython-input-1-beeeb82427d6>\u001b[0m in \u001b[0;36m<module>\u001b[1;34m\u001b[0m\n\u001b[0;32m      5\u001b[0m \u001b[0mm\u001b[0m \u001b[1;33m=\u001b[0m \u001b[0mfolium\u001b[0m\u001b[1;33m.\u001b[0m\u001b[0mMap\u001b[0m\u001b[1;33m(\u001b[0m\u001b[0mlocation\u001b[0m\u001b[1;33m=\u001b[0m\u001b[1;33m[\u001b[0m\u001b[1;36m50\u001b[0m\u001b[1;33m,\u001b[0m \u001b[1;33m-\u001b[0m\u001b[1;36m60\u001b[0m\u001b[1;33m]\u001b[0m\u001b[1;33m,\u001b[0m \u001b[0mzoom_start\u001b[0m\u001b[1;33m=\u001b[0m\u001b[1;36m4.5\u001b[0m\u001b[1;33m,\u001b[0m \u001b[0mtiles\u001b[0m\u001b[1;33m=\u001b[0m\u001b[1;34m'Stamen Terrain'\u001b[0m\u001b[1;33m)\u001b[0m\u001b[1;33m\u001b[0m\u001b[1;33m\u001b[0m\u001b[0m\n\u001b[0;32m      6\u001b[0m \u001b[1;33m\u001b[0m\u001b[0m\n\u001b[1;32m----> 7\u001b[1;33m \u001b[1;32mfor\u001b[0m \u001b[0mflt\u001b[0m \u001b[1;32min\u001b[0m \u001b[0mdf\u001b[0m\u001b[1;33m.\u001b[0m\u001b[0mindex\u001b[0m\u001b[1;33m[\u001b[0m\u001b[1;33m:\u001b[0m\u001b[1;36m1\u001b[0m\u001b[1;33m]\u001b[0m\u001b[1;33m:\u001b[0m\u001b[1;33m\u001b[0m\u001b[1;33m\u001b[0m\u001b[0m\n\u001b[0m\u001b[0;32m      8\u001b[0m     \u001b[0mfolium\u001b[0m\u001b[1;33m.\u001b[0m\u001b[0mMarker\u001b[0m\u001b[1;33m(\u001b[0m\u001b[0mlocation\u001b[0m\u001b[1;33m=\u001b[0m\u001b[1;33m[\u001b[0m\u001b[0mdf\u001b[0m\u001b[1;33m[\u001b[0m\u001b[1;34m\"latitude\"\u001b[0m\u001b[1;33m]\u001b[0m\u001b[1;33m.\u001b[0m\u001b[0miloc\u001b[0m\u001b[1;33m[\u001b[0m\u001b[0mflt\u001b[0m\u001b[1;33m]\u001b[0m\u001b[1;33m,\u001b[0m \u001b[0mdf\u001b[0m\u001b[1;33m[\u001b[0m\u001b[1;34m\"longitude\"\u001b[0m\u001b[1;33m]\u001b[0m\u001b[1;33m.\u001b[0m\u001b[0miloc\u001b[0m\u001b[1;33m[\u001b[0m\u001b[0mflt\u001b[0m\u001b[1;33m]\u001b[0m\u001b[1;33m]\u001b[0m\u001b[1;33m)\u001b[0m\u001b[1;33m.\u001b[0m\u001b[0madd_to\u001b[0m\u001b[1;33m(\u001b[0m\u001b[0mm\u001b[0m\u001b[1;33m)\u001b[0m\u001b[1;33m\u001b[0m\u001b[1;33m\u001b[0m\u001b[0m\n\u001b[0;32m      9\u001b[0m \u001b[0mm\u001b[0m\u001b[1;33m\u001b[0m\u001b[1;33m\u001b[0m\u001b[0m\n",
      "\u001b[1;31mNameError\u001b[0m: name 'df' is not defined"
     ]
    }
   ],
   "source": [
    "# this was testing to see the captured points were within the shape\n",
    "import folium\n",
    "\n",
    "import folium\n",
    "m = folium.Map(location=[50, -60], zoom_start=4.5, tiles='Stamen Terrain')\n",
    "\n",
    "for flt in df.index[:1]:\n",
    "    folium.Marker(location=[df[\"latitude\"].iloc[flt], df[\"longitude\"].iloc[flt]]).add_to(m)\n",
    "m"
   ]
  },
  {
   "cell_type": "code",
   "execution_count": null,
   "metadata": {},
   "outputs": [],
   "source": []
  }
 ],
 "metadata": {
  "kernelspec": {
   "display_name": "Python 3",
   "language": "python",
   "name": "python3"
  },
  "language_info": {
   "codemirror_mode": {
    "name": "ipython",
    "version": 3
   },
   "file_extension": ".py",
   "mimetype": "text/x-python",
   "name": "python",
   "nbconvert_exporter": "python",
   "pygments_lexer": "ipython3",
   "version": "3.7.9"
  }
 },
 "nbformat": 4,
 "nbformat_minor": 4
}
