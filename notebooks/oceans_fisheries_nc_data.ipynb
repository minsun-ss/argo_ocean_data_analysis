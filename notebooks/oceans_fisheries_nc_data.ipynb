{
 "cells": [
  {
   "cell_type": "code",
   "execution_count": 65,
   "metadata": {},
   "outputs": [],
   "source": [
    "import pandas as pd\n",
    "import numpy as np\n",
    "import zipfile\n",
    "import sys\n",
    "sys.path.append('../')\n",
    "from helper import spkly\n",
    "from helper import db\n",
    "import datetime\n",
    "import math\n"
   ]
  },
  {
   "cell_type": "code",
   "execution_count": 63,
   "metadata": {},
   "outputs": [
    {
     "name": "stdout",
     "output_type": "stream",
     "text": [
      "Data/01966_SHC.csv\n",
      "Data/01970_SHC.csv\n",
      "Data/02330_SHC.csv\n",
      "Data/02780_SHC.csv\n",
      "Data/02985_SHC.csv\n",
      "Data/03057_SHC.csv\n",
      "Data/03100_SHC.csv\n",
      "Data/03246_SHC.csv\n",
      "Data/03248_SHC.csv\n",
      "Data/03250_SHC.csv\n",
      "Data/03300_SHC.csv\n",
      "Data/03335_SHC.csv\n",
      "Data/03353_SHC.csv\n",
      "Data/03360_SHC.csv\n",
      "Data/03365_SHC.csv\n",
      "Data/03460_SHC.csv\n",
      "Data/15930_SHC.csv\n",
      "Data/BANC_AMERICAINS.csv\n",
      "Data/BBE_MT.csv\n",
      "Data/BBY_MT.csv\n",
      "Data/BCO_MT.csv\n",
      "Data/BIC_MT.csv\n",
      "Data/BOR_MT.csv\n",
      "Data/BSB_MT.csv\n",
      "Data/COURANT_GASPE.csv\n",
      "Data/GRI_MT.csv\n",
      "Data/GYRE_ANTICOSTI.csv\n",
      "Data/HSP_MT.csv\n",
      "Data/IRW_MT.csv\n",
      "Data/ISH_MT.csv\n",
      "Data/LAR_MT.csv\n",
      "Data/MLO_MT.csv\n",
      "Data/NAT_MT.csv\n",
      "Data/OLD_HARRY.csv\n",
      "Data/PER_MT.csv\n",
      "Data/POM_MT.csv\n",
      "Data/RAT_MT.csv\n",
      "Data/RIKI.csv\n",
      "Data/SHEDIAC.csv\n",
      "Data/SIL_MT.csv\n",
      "Data/TAB_MT.csv\n",
      "Data/TAD_MT.csv\n"
     ]
    }
   ],
   "source": [
    "zip = zipfile.ZipFile('../data/LTTMP_1980_2019.zip')\n",
    "\n",
    "df = pd.DataFrame()\n",
    "for i in [i for i in zip.namelist() if 'csv' in i]:\n",
    "    print(i)\n",
    "    datafile = pd.read_csv(zip.open(i), encoding='cp437')\n",
    "    datafile.columns = ['station_id', 'latitude', 'longitude', 'measure_time', 'depth', 'temperature', 'salinity']\n",
    "    datafile['measure_time'] = pd.to_datetime(datafile['measure_time'])\n",
    "    df = pd.concat([df, datafile])"
   ]
  },
  {
   "cell_type": "code",
   "execution_count": 73,
   "metadata": {},
   "outputs": [],
   "source": [
    "df.dropna(inplace=True)\n",
    "subset = df[df['measure_time']>=datetime.datetime(2009,1,1)].copy()\n",
    "subset['measure_time'] = subset['measure_time'].dt.date\n",
    "\n",
    "bin_max = (math.ceil(subset['depth'].max() / 100) + 1) * 100\n",
    "cut_bins = [i for i in range(0, bin_max, 100)]\n",
    "subset['depth_bin'] = pd.cut(subset['depth'], cut_bins, right=False)\n",
    "subset['depth_bin'] = subset['depth_bin'].astype('str')\n",
    "\n",
    "subset = subset.groupby(['station_id', 'latitude', 'longitude', 'measure_time', 'depth_bin'])[['temperature', 'salinity']].mean().reset_index()\n",
    "subset['data_source'] = 'DFO Quebec'\n",
    "\n",
    "RENAME_COLUMNS = {'measure_time': 'data_date', 'station_id': 'floatid', 'depth_bin': 'depth'}\n",
    "subset.rename(columns=RENAME_COLUMNS, inplace=True)"
   ]
  },
  {
   "cell_type": "code",
   "execution_count": 76,
   "metadata": {},
   "outputs": [],
   "source": [
    "db.insert_table(table_name='ocean_data', df=subset)"
   ]
  },
  {
   "cell_type": "code",
   "execution_count": 47,
   "metadata": {},
   "outputs": [
    {
     "data": {
      "text/html": [
       "<div>\n",
       "<style scoped>\n",
       "    .dataframe tbody tr th:only-of-type {\n",
       "        vertical-align: middle;\n",
       "    }\n",
       "\n",
       "    .dataframe tbody tr th {\n",
       "        vertical-align: top;\n",
       "    }\n",
       "\n",
       "    .dataframe thead th {\n",
       "        text-align: right;\n",
       "    }\n",
       "</style>\n",
       "<table border=\"1\" class=\"dataframe\">\n",
       "  <thead>\n",
       "    <tr style=\"text-align: right;\">\n",
       "      <th></th>\n",
       "      <th>station</th>\n",
       "      <th>latitude</th>\n",
       "      <th>longitude</th>\n",
       "      <th>date</th>\n",
       "      <th>depth_bin</th>\n",
       "      <th>temperature</th>\n",
       "      <th>salinity</th>\n",
       "      <th>data_source</th>\n",
       "    </tr>\n",
       "  </thead>\n",
       "  <tbody>\n",
       "    <tr>\n",
       "      <th>0</th>\n",
       "      <td>166930</td>\n",
       "      <td>47.3786</td>\n",
       "      <td>-61.8566</td>\n",
       "      <td>2009-01-01 00:00:00</td>\n",
       "      <td>[0, 100)</td>\n",
       "      <td>-0.75</td>\n",
       "      <td>29.27</td>\n",
       "      <td>DFO Quebec</td>\n",
       "    </tr>\n",
       "    <tr>\n",
       "      <th>1</th>\n",
       "      <td>166930</td>\n",
       "      <td>47.3786</td>\n",
       "      <td>-61.8566</td>\n",
       "      <td>2009-01-01 01:00:00</td>\n",
       "      <td>[0, 100)</td>\n",
       "      <td>-0.77</td>\n",
       "      <td>29.28</td>\n",
       "      <td>DFO Quebec</td>\n",
       "    </tr>\n",
       "    <tr>\n",
       "      <th>2</th>\n",
       "      <td>166930</td>\n",
       "      <td>47.3786</td>\n",
       "      <td>-61.8566</td>\n",
       "      <td>2009-01-01 02:00:00</td>\n",
       "      <td>[0, 100)</td>\n",
       "      <td>-0.79</td>\n",
       "      <td>29.28</td>\n",
       "      <td>DFO Quebec</td>\n",
       "    </tr>\n",
       "    <tr>\n",
       "      <th>3</th>\n",
       "      <td>166930</td>\n",
       "      <td>47.3786</td>\n",
       "      <td>-61.8566</td>\n",
       "      <td>2009-01-01 03:00:00</td>\n",
       "      <td>[0, 100)</td>\n",
       "      <td>-0.80</td>\n",
       "      <td>29.30</td>\n",
       "      <td>DFO Quebec</td>\n",
       "    </tr>\n",
       "    <tr>\n",
       "      <th>4</th>\n",
       "      <td>166930</td>\n",
       "      <td>47.3786</td>\n",
       "      <td>-61.8566</td>\n",
       "      <td>2009-01-01 04:00:00</td>\n",
       "      <td>[0, 100)</td>\n",
       "      <td>-0.80</td>\n",
       "      <td>29.30</td>\n",
       "      <td>DFO Quebec</td>\n",
       "    </tr>\n",
       "  </tbody>\n",
       "</table>\n",
       "</div>"
      ],
      "text/plain": [
       "   station  latitude  longitude                date depth_bin  temperature  \\\n",
       "0   166930   47.3786   -61.8566 2009-01-01 00:00:00  [0, 100)        -0.75   \n",
       "1   166930   47.3786   -61.8566 2009-01-01 01:00:00  [0, 100)        -0.77   \n",
       "2   166930   47.3786   -61.8566 2009-01-01 02:00:00  [0, 100)        -0.79   \n",
       "3   166930   47.3786   -61.8566 2009-01-01 03:00:00  [0, 100)        -0.80   \n",
       "4   166930   47.3786   -61.8566 2009-01-01 04:00:00  [0, 100)        -0.80   \n",
       "\n",
       "   salinity data_source  \n",
       "0     29.27  DFO Quebec  \n",
       "1     29.28  DFO Quebec  \n",
       "2     29.28  DFO Quebec  \n",
       "3     29.30  DFO Quebec  \n",
       "4     29.30  DFO Quebec  "
      ]
     },
     "execution_count": 47,
     "metadata": {},
     "output_type": "execute_result"
    }
   ],
   "source": [
    "subset.shape"
   ]
  },
  {
   "cell_type": "code",
   "execution_count": 15,
   "metadata": {},
   "outputs": [
    {
     "data": {
      "text/html": [
       "<div style=\"width:100%;\"><div style=\"position:relative;width:100%;height:0;padding-bottom:60%;\"><span style=\"color:#565656\">Make this Notebook Trusted to load map: File -> Trust Notebook</span><iframe src=\"about:blank\" style=\"position:absolute;width:100%;height:100%;left:0;top:0;border:none !important;\" data-html=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 onload=\"this.contentDocument.open();this.contentDocument.write(atob(this.getAttribute('data-html')));this.contentDocument.close();\" allowfullscreen webkitallowfullscreen mozallowfullscreen></iframe></div></div>"
      ],
      "text/plain": [
       "<folium.folium.Map at 0x17619626408>"
      ]
     },
     "execution_count": 15,
     "metadata": {},
     "output_type": "execute_result"
    }
   ],
   "source": [
    "import folium\n",
    "\n",
    "import folium\n",
    "m = folium.Map(location=[50, -60], zoom_start=4.5, tiles='Stamen Terrain')\n",
    "\n",
    "for flt in temp_table.index[:10]:\n",
    "    folium.Marker(location=[temp_table[\"Latitude\"].iloc[flt], temp_table[\"Longitude\"].iloc[flt]]).add_to(m)\n",
    "m"
   ]
  },
  {
   "cell_type": "code",
   "execution_count": 55,
   "metadata": {},
   "outputs": [
    {
     "data": {
      "text/html": [
       "<div>\n",
       "<style scoped>\n",
       "    .dataframe tbody tr th:only-of-type {\n",
       "        vertical-align: middle;\n",
       "    }\n",
       "\n",
       "    .dataframe tbody tr th {\n",
       "        vertical-align: top;\n",
       "    }\n",
       "\n",
       "    .dataframe thead th {\n",
       "        text-align: right;\n",
       "    }\n",
       "</style>\n",
       "<table border=\"1\" class=\"dataframe\">\n",
       "  <thead>\n",
       "    <tr style=\"text-align: right;\">\n",
       "      <th></th>\n",
       "    </tr>\n",
       "  </thead>\n",
       "  <tbody>\n",
       "  </tbody>\n",
       "</table>\n",
       "</div>"
      ],
      "text/plain": [
       "Empty DataFrame\n",
       "Columns: []\n",
       "Index: []"
      ]
     },
     "execution_count": 55,
     "metadata": {},
     "output_type": "execute_result"
    }
   ],
   "source": []
  },
  {
   "cell_type": "code",
   "execution_count": null,
   "metadata": {},
   "outputs": [],
   "source": []
  }
 ],
 "metadata": {
  "kernelspec": {
   "display_name": "Python 3",
   "language": "python",
   "name": "python3"
  },
  "language_info": {
   "codemirror_mode": {
    "name": "ipython",
    "version": 3
   },
   "file_extension": ".py",
   "mimetype": "text/x-python",
   "name": "python",
   "nbconvert_exporter": "python",
   "pygments_lexer": "ipython3",
   "version": "3.7.9"
  }
 },
 "nbformat": 4,
 "nbformat_minor": 4
}
